{
 "cells": [
  {
   "cell_type": "code",
   "execution_count": 11,
   "metadata": {},
   "outputs": [],
   "source": [
    "import igraph as ig"
   ]
  },
  {
   "cell_type": "code",
   "execution_count": 14,
   "metadata": {},
   "outputs": [
    {
     "name": "stdout",
     "output_type": "stream",
     "text": [
      "IGRAPH U--- 4 4 --\n",
      "+ edges:\n",
      "0--1 0--2 1--3 2--3\n"
     ]
    },
    {
     "ename": "AttributeError",
     "evalue": "Plotting not available; please install pycairo or cairocffi",
     "output_type": "error",
     "traceback": [
      "\u001b[1;31m---------------------------------------------------------------------------\u001b[0m",
      "\u001b[1;31mAttributeError\u001b[0m                            Traceback (most recent call last)",
      "\u001b[1;32me:\\研究生\\Trustie课题组\\Complex Networks\\code\\igraph\\lesson1.ipynb Cell 2\u001b[0m in \u001b[0;36m<cell line: 3>\u001b[1;34m()\u001b[0m\n\u001b[0;32m      <a href='vscode-notebook-cell:/e%3A/%E7%A0%94%E7%A9%B6%E7%94%9F/Trustie%E8%AF%BE%E9%A2%98%E7%BB%84/Complex%20Networks/code/igraph/lesson1.ipynb#W1sZmlsZQ%3D%3D?line=0'>1</a>\u001b[0m g \u001b[39m=\u001b[39m ig\u001b[39m.\u001b[39mGraph(n\u001b[39m=\u001b[39m\u001b[39m4\u001b[39m, edges\u001b[39m=\u001b[39m[[\u001b[39m0\u001b[39m, \u001b[39m1\u001b[39m], [\u001b[39m0\u001b[39m, \u001b[39m2\u001b[39m], [\u001b[39m1\u001b[39m, \u001b[39m3\u001b[39m], [\u001b[39m2\u001b[39m, \u001b[39m3\u001b[39m]])\n\u001b[0;32m      <a href='vscode-notebook-cell:/e%3A/%E7%A0%94%E7%A9%B6%E7%94%9F/Trustie%E8%AF%BE%E9%A2%98%E7%BB%84/Complex%20Networks/code/igraph/lesson1.ipynb#W1sZmlsZQ%3D%3D?line=1'>2</a>\u001b[0m \u001b[39mprint\u001b[39m(g)\n\u001b[1;32m----> <a href='vscode-notebook-cell:/e%3A/%E7%A0%94%E7%A9%B6%E7%94%9F/Trustie%E8%AF%BE%E9%A2%98%E7%BB%84/Complex%20Networks/code/igraph/lesson1.ipynb#W1sZmlsZQ%3D%3D?line=2'>3</a>\u001b[0m ig\u001b[39m.\u001b[39;49mplot(g, bbox\u001b[39m=\u001b[39;49m(\u001b[39m300\u001b[39;49m,\u001b[39m300\u001b[39;49m))\n",
      "File \u001b[1;32me:\\Miniconda3\\envs\\pytorch\\lib\\site-packages\\igraph\\drawing\\__init__.py:284\u001b[0m, in \u001b[0;36mplot\u001b[1;34m(obj, target, bbox, *args, **kwds)\u001b[0m\n\u001b[0;32m    282\u001b[0m background \u001b[39m=\u001b[39m kwds\u001b[39m.\u001b[39mpop(\u001b[39m\"\u001b[39m\u001b[39mbackground\u001b[39m\u001b[39m\"\u001b[39m, \u001b[39m\"\u001b[39m\u001b[39mwhite\u001b[39m\u001b[39m\"\u001b[39m)\n\u001b[0;32m    283\u001b[0m margin \u001b[39m=\u001b[39m \u001b[39mfloat\u001b[39m(kwds\u001b[39m.\u001b[39mpop(\u001b[39m\"\u001b[39m\u001b[39mmargin\u001b[39m\u001b[39m\"\u001b[39m, \u001b[39m20\u001b[39m))\n\u001b[1;32m--> 284\u001b[0m result \u001b[39m=\u001b[39m CairoPlot(\n\u001b[0;32m    285\u001b[0m     target\u001b[39m=\u001b[39;49mtarget,\n\u001b[0;32m    286\u001b[0m     bbox\u001b[39m=\u001b[39;49mbbox,\n\u001b[0;32m    287\u001b[0m     palette\u001b[39m=\u001b[39;49mpalette,\n\u001b[0;32m    288\u001b[0m     background\u001b[39m=\u001b[39;49mbackground,\n\u001b[0;32m    289\u001b[0m )\n\u001b[0;32m    290\u001b[0m item_bbox \u001b[39m=\u001b[39m result\u001b[39m.\u001b[39mbbox\u001b[39m.\u001b[39mcontract(margin)\n\u001b[0;32m    291\u001b[0m result\u001b[39m.\u001b[39madd(obj, item_bbox, \u001b[39m*\u001b[39margs, \u001b[39m*\u001b[39m\u001b[39m*\u001b[39mkwds)\n",
      "File \u001b[1;32me:\\Miniconda3\\envs\\pytorch\\lib\\site-packages\\igraph\\drawing\\cairo\\plot.py:148\u001b[0m, in \u001b[0;36mCairoPlot.__init__\u001b[1;34m(self, target, bbox, palette, background)\u001b[0m\n\u001b[0;32m    146\u001b[0m \u001b[39mif\u001b[39;00m target \u001b[39mis\u001b[39;00m \u001b[39mNone\u001b[39;00m:\n\u001b[0;32m    147\u001b[0m     \u001b[39mself\u001b[39m\u001b[39m.\u001b[39m_need_tmpfile \u001b[39m=\u001b[39m \u001b[39mTrue\u001b[39;00m\n\u001b[1;32m--> 148\u001b[0m     \u001b[39mself\u001b[39m\u001b[39m.\u001b[39m_surface \u001b[39m=\u001b[39m cairo\u001b[39m.\u001b[39;49mImageSurface(\n\u001b[0;32m    149\u001b[0m         cairo\u001b[39m.\u001b[39mFORMAT_ARGB32, \u001b[39mint\u001b[39m(\u001b[39mself\u001b[39m\u001b[39m.\u001b[39mbbox\u001b[39m.\u001b[39mwidth), \u001b[39mint\u001b[39m(\u001b[39mself\u001b[39m\u001b[39m.\u001b[39mbbox\u001b[39m.\u001b[39mheight)\n\u001b[0;32m    150\u001b[0m     )\n\u001b[0;32m    151\u001b[0m \u001b[39melif\u001b[39;00m \u001b[39misinstance\u001b[39m(target, cairo\u001b[39m.\u001b[39mSurface):\n\u001b[0;32m    152\u001b[0m     \u001b[39mself\u001b[39m\u001b[39m.\u001b[39m_surface \u001b[39m=\u001b[39m target\n",
      "File \u001b[1;32me:\\Miniconda3\\envs\\pytorch\\lib\\site-packages\\igraph\\drawing\\utils.py:428\u001b[0m, in \u001b[0;36mFakeModule.__getattr__\u001b[1;34m(self, _)\u001b[0m\n\u001b[0;32m    427\u001b[0m \u001b[39mdef\u001b[39;00m \u001b[39m__getattr__\u001b[39m(\u001b[39mself\u001b[39m, _):\n\u001b[1;32m--> 428\u001b[0m     \u001b[39mraise\u001b[39;00m \u001b[39mAttributeError\u001b[39;00m(\u001b[39mself\u001b[39m\u001b[39m.\u001b[39m_message)\n",
      "\u001b[1;31mAttributeError\u001b[0m: Plotting not available; please install pycairo or cairocffi"
     ]
    }
   ],
   "source": [
    "g = ig.Graph(n=4, edges=[[0, 1], [0, 2], [1, 3], [2, 3]])\n",
    "print(g)\n",
    "ig.plot(g, bbox=(300,300))"
   ]
  }
 ],
 "metadata": {
  "kernelspec": {
   "display_name": "Python 3.8.12 ('pytorch')",
   "language": "python",
   "name": "python3"
  },
  "language_info": {
   "codemirror_mode": {
    "name": "ipython",
    "version": 3
   },
   "file_extension": ".py",
   "mimetype": "text/x-python",
   "name": "python",
   "nbconvert_exporter": "python",
   "pygments_lexer": "ipython3",
   "version": "3.8.13"
  },
  "orig_nbformat": 4,
  "vscode": {
   "interpreter": {
    "hash": "79a9b5e950d122f989ffc43c23f14d600527a590e9a1632d9d7259b3696fc2da"
   }
  }
 },
 "nbformat": 4,
 "nbformat_minor": 2
}
